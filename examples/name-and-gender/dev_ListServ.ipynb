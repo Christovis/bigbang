{
 "cells": [
  {
   "cell_type": "markdown",
   "metadata": {},
   "source": [
    "Experimenting with estimating the gender of mailing list participants."
   ]
  },
  {
   "cell_type": "code",
   "execution_count": 1,
   "metadata": {},
   "outputs": [],
   "source": [
    "%matplotlib inline"
   ]
  },
  {
   "cell_type": "code",
   "execution_count": 2,
   "metadata": {},
   "outputs": [
    {
     "name": "stderr",
     "output_type": "stream",
     "text": [
      "/home/christovis/02_AGE/datactive/bigbang/config/config.py:8: YAMLLoadWarning: calling yaml.load() without Loader=... is deprecated, as the default Loader is unsafe. Please read https://msg.pyyaml.org/load for full details.\n",
      "  dictionary = yaml.load(stream)\n"
     ]
    }
   ],
   "source": [
    "from bigbang.listserv import ListServ\n",
    "import bigbang.mailman as mailman\n",
    "import bigbang.process as process\n",
    "from bigbang.archive import Archive\n",
    "import imp\n",
    "imp.reload(process)\n",
    "\n",
    "import pandas as pd\n",
    "import datetime\n",
    "import matplotlib.pyplot as plt\n",
    "import numpy as np\n",
    "import math\n",
    "import pytz\n",
    "import pickle\n",
    "import os\n",
    "\n",
    "from bigbang import parse\n",
    "from gender_detector import gender_detector as gd"
   ]
  },
  {
   "cell_type": "code",
   "execution_count": 3,
   "metadata": {
    "scrolled": true
   },
   "outputs": [],
   "source": [
    "adirs = [\"/home/christovis/02_AGE/datactive/bigbang/archives/3GPP_TSG_SA_WG2_PROSE_GCSE_LTE/\"]\n",
    "file_dscs = [{\"root\": \"\", \"extension\": \"LOG\"}]\n",
    "\n",
    "mlists = [(adirs[0].split(\"/\")[-2], ListServ.from_archives(adirs, file_dscs).data)]"
   ]
  },
  {
   "cell_type": "code",
   "execution_count": 4,
   "metadata": {},
   "outputs": [
    {
     "data": {
      "text/html": [
       "<div>\n",
       "<style scoped>\n",
       "    .dataframe tbody tr th:only-of-type {\n",
       "        vertical-align: middle;\n",
       "    }\n",
       "\n",
       "    .dataframe tbody tr th {\n",
       "        vertical-align: top;\n",
       "    }\n",
       "\n",
       "    .dataframe thead th {\n",
       "        text-align: right;\n",
       "    }\n",
       "</style>\n",
       "<table border=\"1\" class=\"dataframe\">\n",
       "  <thead>\n",
       "    <tr style=\"text-align: right;\">\n",
       "      <th>Guessed Gender</th>\n",
       "      <th>female</th>\n",
       "      <th>male</th>\n",
       "      <th>name unknown</th>\n",
       "      <th>unknown</th>\n",
       "    </tr>\n",
       "  </thead>\n",
       "  <tbody>\n",
       "    <tr>\n",
       "      <th>3GPP_TSG_SA_WG2_PROSE_GCSE_LTE</th>\n",
       "      <td>4</td>\n",
       "      <td>19</td>\n",
       "      <td>13</td>\n",
       "      <td>30</td>\n",
       "    </tr>\n",
       "  </tbody>\n",
       "</table>\n",
       "</div>"
      ],
      "text/plain": [
       "Guessed Gender                  female  male  name unknown  unknown\n",
       "3GPP_TSG_SA_WG2_PROSE_GCSE_LTE       4    19            13       30"
      ]
     },
     "execution_count": 4,
     "metadata": {},
     "output_type": "execute_result"
    }
   ],
   "source": [
    "detector = gd.GenderDetector('us')\n",
    "\n",
    "gender_ambiguous_names = {}\n",
    "\n",
    "def guess_gender(name):\n",
    "    if not name:\n",
    "        return 'name unknown'\n",
    "    try:\n",
    "        if detector.guess(name) == 'unknown':\n",
    "            if name in gender_ambiguous_names:\n",
    "                gender_ambiguous_names[name] += 1\n",
    "            else:\n",
    "                gender_ambiguous_names[name] = 1\n",
    "        \n",
    "        return detector.guess(name)\n",
    "    except:\n",
    "        return 'error'\n",
    "\n",
    "def ml_shortname(url):\n",
    "    return url.rstrip(\"/\").split(\"/\")[-1]\n",
    "\n",
    "series = []  \n",
    "for (url, ml) in mlists:\n",
    "    activity = Archive.get_activity(Archive(ml)).sum(0)\n",
    "    activityFrame = pd.DataFrame(activity, columns=['Message Count'])\n",
    "    \n",
    "    activityFrame['Name'] = activityFrame.index.map(lambda x: parse.clean_from(x))    \n",
    "    activityFrame['First Name'] = activityFrame['Name'].map(lambda x: parse.guess_first_name(x))\n",
    "    activityFrame['Guessed Gender'] = activityFrame['First Name'].map(guess_gender)\n",
    "    \n",
    "    activityFrame.to_csv(('senders_guessed_gender-%s.csv' % ml_shortname(url)),encoding='utf-8')\n",
    "    \n",
    "    counts = activityFrame.groupby('Guessed Gender')['Message Count'].count()\n",
    "    counts.name=url\n",
    "    series.append(counts)\n",
    "\n",
    "pd.DataFrame(series)"
   ]
  },
  {
   "cell_type": "code",
   "execution_count": 5,
   "metadata": {},
   "outputs": [
    {
     "data": {
      "text/plain": [
       "<AxesSubplot:>"
      ]
     },
     "execution_count": 5,
     "metadata": {},
     "output_type": "execute_result"
    },
    {
     "data": {
      "image/png": "[encoded data removed]",
      "text/plain": [
       "<Figure size 432x288 with 1 Axes>"
      ]
     },
     "metadata": {
      "needs_background": "light"
     },
     "output_type": "display_data"
    }
   ],
   "source": [
    "ser = pd.Series(gender_ambiguous_names)\n",
    "ser.sort_values(ascending=False).plot(kind='bar')"
   ]
  },
  {
   "cell_type": "code",
   "execution_count": 6,
   "metadata": {},
   "outputs": [],
   "source": [
    "url = \"http://lists.w3.org/Archives/Public/public-privacy/\"\n",
    "csv_guessed = ('senders_guessed_gender-%s.csv' % ml_shortname(url))\n",
    "csv_manual = ('senders_manual_gender-%s.csv' % ml_shortname(url))\n",
    "\n",
    "guessed = pd.read_csv(csv_guessed)\n",
    "manual = pd.read_csv(csv_manual)"
   ]
  },
  {
   "cell_type": "code",
   "execution_count": 7,
   "metadata": {},
   "outputs": [
    {
     "data": {
      "text/plain": [
       "<AxesSubplot:>"
      ]
     },
     "execution_count": 7,
     "metadata": {},
     "output_type": "execute_result"
    },
    {
     "data": {
      "image/png": "[encoded data removed]",
      "text/plain": [
       "<Figure size 432x288 with 1 Axes>"
      ]
     },
     "metadata": {
      "needs_background": "light"
     },
     "output_type": "display_data"
    }
   ],
   "source": [
    "def combined_gender(row):\n",
    "    if str(row['Manual Gender']) != 'nan':\n",
    "        return row['Manual Gender']\n",
    "    else:\n",
    "        return row['Guessed Gender']\n",
    "manual['Combined Gender'] = manual.apply(combined_gender, axis=1)\n",
    "\n",
    "combined_series = manual.groupby('Combined Gender')['Message Count'].sum()\n",
    "guessed_series = manual.groupby('Guessed Gender')['Message Count'].sum()\n",
    "compared_counts = pd.DataFrame({'Manual':combined_series, 'Guessed':guessed_series})\n",
    "compared_counts.plot(kind='bar')"
   ]
  },
  {
   "cell_type": "code",
   "execution_count": null,
   "metadata": {},
   "outputs": [],
   "source": []
  }
 ],
 "metadata": {
  "kernelspec": {
   "display_name": "Python 3",
   "language": "python",
   "name": "python3"
  },
  "language_info": {
   "codemirror_mode": {
    "name": "ipython",
    "version": 3
   },
   "file_extension": ".py",
   "mimetype": "text/x-python",
   "name": "python",
   "nbconvert_exporter": "python",
   "pygments_lexer": "ipython3",
   "version": "3.9.1"
  }
 },
 "nbformat": 4,
 "nbformat_minor": 1
}
